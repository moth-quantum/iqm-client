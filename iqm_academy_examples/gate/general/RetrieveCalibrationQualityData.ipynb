{
 "cells": [
  {
   "cell_type": "markdown",
   "metadata": {},
   "source": [
    "# Retrieve calibration quality metrics programmatically\n",
    "\n",
    "This notebook demonstrates how to retrieve calibration quality metrics programmatically. In the example, we extract, The calibration data is retrieved in json format and unpackages for single-qubit, two-qubit and readout fidelity.\n",
    "\n",
    "For a complete list of the calibration data, please refer to the [API documentation](https://resonance.meetiqm.com/docs/api-reference#get-/quantum-computers/v1/-id_or_alias-/calibrations) documentation.\n",
    "\n",
    "The following function can be used to retrieve the data; an example how to call it is provided in the next code cell."
   ]
  },
  {
   "cell_type": "code",
   "execution_count": 1,
   "metadata": {},
   "outputs": [],
   "source": [
    "import requests\n",
    "\n",
    "\n",
    "def get_calibration_data(system, token):\n",
    "    \"\"\"Loading the latest calibration data.\n",
    "\n",
    "    Args:\n",
    "        system (str): name of the device being used\n",
    "        token (str): API token\n",
    "\n",
    "    Returns:\n",
    "        single_qubit_fidelity (dict): dictionary containing the calibration data for single qubit gates.\n",
    "        two_qubit_fidelity (dict): calibration data for the two qubits gates.\n",
    "        readout_fidelity (dict): calibration data for the readout operations.\n",
    "    \"\"\"\n",
    "    two_qubit_fidelity = {}\n",
    "    single_qubit_fidelity = {}\n",
    "    readout_fidelity = {}\n",
    "\n",
    "    url = (\n",
    "        f\"https://api.resonance.meetiqm.com/quantum-computers/v1/{system}/calibrations\"\n",
    "    )\n",
    "    headers = {\"Accept\": \"application/json\", \"Authorization\": f\"Bearer {token}\"}\n",
    "    r = requests.get(url, headers=headers)\n",
    "    calibration = r.json()\n",
    "    for iq in calibration[\"calibrations\"][0][\"metrics\"][0][\"metrics\"]:\n",
    "        temp = list(iq.values())\n",
    "        two_qubit_fidelity[str(temp[0])] = temp[1]\n",
    "        two_qubit_fidelity[str([temp[0][1], temp[0][0]])] = temp[1]\n",
    "\n",
    "    for iq in calibration[\"calibrations\"][0][\"metrics\"][1][\"metrics\"]:\n",
    "        temp = list(iq.values())\n",
    "        single_qubit_fidelity[str(temp[0])] = temp[1]\n",
    "\n",
    "    for iq in calibration[\"calibrations\"][0][\"metrics\"][3][\"metrics\"]:\n",
    "        temp = list(iq.values())\n",
    "        readout_fidelity[str(temp[0])] = temp[1]\n",
    "\n",
    "    return two_qubit_fidelity, single_qubit_fidelity, readout_fidelity\n"
   ]
  },
  {
   "cell_type": "markdown",
   "metadata": {},
   "source": [
    "Now that we have the function ready, we can it simply by providing a system name and an API key as `token`. The function will return a dictionary with the calibration data."
   ]
  },
  {
   "cell_type": "code",
   "execution_count": 2,
   "metadata": {},
   "outputs": [
    {
     "name": "stdout",
     "output_type": "stream",
     "text": [
      "({\"['QB1', 'COMP_R']\": 0.9893870134190287, \"['COMP_R', 'QB1']\": 0.9893870134190287, \"['QB2', 'COMP_R']\": 0.9912598862705585, \"['COMP_R', 'QB2']\": 0.9912598862705585, \"['QB3', 'COMP_R']\": 0.9917118619071966, \"['COMP_R', 'QB3']\": 0.9917118619071966, \"['QB4', 'COMP_R']\": 0.991010234515325, \"['COMP_R', 'QB4']\": 0.991010234515325, \"['QB5', 'COMP_R']\": 0.9851692270158128, \"['COMP_R', 'QB5']\": 0.9851692270158128, \"['QB6', 'COMP_R']\": 0.9777774276595226, \"['COMP_R', 'QB6']\": 0.9777774276595226}, {'QB1': 0.9993864118717042, 'QB2': 0.999481149715328, 'QB3': 0.9996542019370042, 'QB4': 0.9996260252504118, 'QB5': 0.999542425625169, 'QB6': 0.9988773507202252}, {'QB1': 0.999388715787174, 'QB2': 0.9992117401994373, 'QB3': 0.9996568269576352, 'QB4': 0.9994891298722653, 'QB5': 0.9957464614935667, 'QB6': 0.998828121123352})\n"
     ]
    }
   ],
   "source": [
    "import os\n",
    "os.environ[\"IQM_TOKEN\"] = input()\n",
    "\n",
    "current_calibration = get_calibration_data(\"deneb\", os.environ[\"IQM_TOKEN\"]) # System can be deneb or garnet\n",
    "print(current_calibration)"
   ]
  },
  {
   "cell_type": "code",
   "execution_count": null,
   "metadata": {},
   "outputs": [],
   "source": [
    "\n",
    "# Copyright 2024 IQM Quantum Computers (Jalil Khatibi Moqadam, Elisabeth Wybo, Nadia Milazzo, Stefan Seegerer)\n",
    "#\n",
    "# Licensed under the Apache License, Version 2.0 (the \"License\");\n",
    "# you may not use this file except in compliance with the License.\n",
    "# You may obtain a copy of the License at\n",
    "#\n",
    "#     http://www.apache.org/licenses/LICENSE-2.0\n",
    "#\n",
    "# Unless required by applicable law or agreed to in writing, software\n",
    "# distributed under the License is distributed on an \"AS IS\" BASIS,\n",
    "# WITHOUT WARRANTIES OR CONDITIONS OF ANY KIND, either express or implied.\n",
    "# See the License for the specific language governing permissions and\n",
    "# limitations under the License."
   ]
  }
 ],
 "metadata": {
  "kernelspec": {
   "display_name": "qiskit-v1",
   "language": "python",
   "name": "python3"
  },
  "language_info": {
   "codemirror_mode": {
    "name": "ipython",
    "version": 3
   },
   "file_extension": ".py",
   "mimetype": "text/x-python",
   "name": "python",
   "nbconvert_exporter": "python",
   "pygments_lexer": "ipython3",
   "version": "3.11.10"
  }
 },
 "nbformat": 4,
 "nbformat_minor": 2
}

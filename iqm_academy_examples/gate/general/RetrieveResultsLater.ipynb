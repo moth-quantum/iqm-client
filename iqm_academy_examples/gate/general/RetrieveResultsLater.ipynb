{
 "cells": [
  {
   "cell_type": "markdown",
   "metadata": {},
   "source": [
    "# Retrieving the results of jobs at a later date\n",
    "\n",
    "As a user, it may be useful to submit a job to Resonance, and to retrieve the results at a later date. This is especially true if you want to prepare and submit your cirucits ahead of time, so as to maximise quantum \n",
    "computation time. In this notebook we briefly outline how to accomplish this while creating a GHZ state."
   ]
  },
  {
   "cell_type": "markdown",
   "metadata": {},
   "source": [
    "## Submitting your job"
   ]
  },
  {
   "cell_type": "markdown",
   "metadata": {},
   "source": [
    "This part of the code functions identically to our previous example: we set up our backend using the relevant `server_url` and `api_token`, and submit our transpiled circuit to be run."
   ]
  },
  {
   "cell_type": "code",
   "execution_count": 1,
   "metadata": {},
   "outputs": [
    {
     "name": "stdout",
     "output_type": "stream",
     "text": [
      "global phase: 3π/2\n",
      "                                                                          »\n",
      "   q_0: ──────────────────────────────────────────────────────────────────»\n",
      "                                                                          »\n",
      "   q_1: ──────────────────────────────────────────────────────────────────»\n",
      "                                                                          »\n",
      "   q_2: ──────────────────────────────────────────────────────────────────»\n",
      "                                                                          »\n",
      "   q_3: ──────────────────────────────────────────────────────────────────»\n",
      "                                                                          »\n",
      "   q_4: ──────────────────────────────────────────────────────────────────»\n",
      "                                                                          »\n",
      "   q_5: ──────────────────────────────────────────────────────────────────»\n",
      "                                                                          »\n",
      "   q_6: ──────────────────────────────────────────────────────────────────»\n",
      "                                                                          »\n",
      "   q_7: ──────────────────────────────────────────────────────────────────»\n",
      "                                                                          »\n",
      "   q_8: ──────────────────────────────────────────────────────────────────»\n",
      "                                                                          »\n",
      "   q_9: ──────────────────────────────────────────────────────────────────»\n",
      "        ┌─────────────┐                     ┌─────────────┐               »\n",
      "  q_10: ┤ R(π/2,3π/2) ├───────────────────■─┤ R(π/2,5π/2) ├───────────────»\n",
      "        └─────────────┘                   │ └─────────────┘               »\n",
      "  q_11: ──────────────────────────────────┼───────────────────────────────»\n",
      "                                          │                               »\n",
      "  q_12: ──────────────────────────────────┼───────────────────────────────»\n",
      "                                          │                               »\n",
      "  q_13: ──────────────────────────────────┼───────────────────────────────»\n",
      "        ┌─────────────┐   ┌─────────────┐ │                               »\n",
      "  q_14: ┤ R(π/2,3π/2) ├─■─┤ R(π/2,5π/2) ├─┼───────────────────────────────»\n",
      "        ├─────────────┤ │ └─────────────┘ │                               »\n",
      "  q_15: ┤ R(π/2,3π/2) ├─■─────────────────■────────■──────────────■───────»\n",
      "        ├─────────────┤                            │              │       »\n",
      "  q_16: ┤ R(π/2,3π/2) ├────────────────────────────┼──────────────■───────»\n",
      "        └─────────────┘                            │                      »\n",
      "  q_17: ───────────────────────────────────────────┼──────────────────────»\n",
      "                                                   │                      »\n",
      "  q_18: ───────────────────────────────────────────┼──────────────────────»\n",
      "        ┌─────────────┐                            │       ┌─────────────┐»\n",
      "  q_19: ┤ R(π/2,3π/2) ├────────────────────────────■───────┤ R(π/2,5π/2) ├»\n",
      "        └─────────────┘                                    └─────────────┘»\n",
      "meas: 5/══════════════════════════════════════════════════════════════════»\n",
      "                                                                          »\n",
      "«                                            \n",
      "«   q_0: ────────────────────────────────────\n",
      "«                                            \n",
      "«   q_1: ────────────────────────────────────\n",
      "«                                            \n",
      "«   q_2: ────────────────────────────────────\n",
      "«                                            \n",
      "«   q_3: ────────────────────────────────────\n",
      "«                                            \n",
      "«   q_4: ────────────────────────────────────\n",
      "«                                            \n",
      "«   q_5: ────────────────────────────────────\n",
      "«                                            \n",
      "«   q_6: ────────────────────────────────────\n",
      "«                                            \n",
      "«   q_7: ────────────────────────────────────\n",
      "«                                            \n",
      "«   q_8: ────────────────────────────────────\n",
      "«                                            \n",
      "«   q_9: ────────────────────────────────────\n",
      "«                        ░  ░       ┌─┐      \n",
      "«  q_10: ────────────────░──░───────┤M├──────\n",
      "«                        ░  ░       └╥┘      \n",
      "«  q_11: ────────────────────────────╫───────\n",
      "«                                    ║       \n",
      "«  q_12: ────────────────────────────╫───────\n",
      "«                                    ║       \n",
      "«  q_13: ────────────────────────────╫───────\n",
      "«                        ░  ░    ┌─┐ ║       \n",
      "«  q_14: ────────────────░──░────┤M├─╫───────\n",
      "«                        ░  ░ ┌─┐└╥┘ ║       \n",
      "«  q_15: ────────────────░──░─┤M├─╫──╫───────\n",
      "«        ┌─────────────┐ ░  ░ └╥┘ ║  ║    ┌─┐\n",
      "«  q_16: ┤ R(π/2,5π/2) ├─░──░──╫──╫──╫────┤M├\n",
      "«        └─────────────┘ ░  ░  ║  ║  ║    └╥┘\n",
      "«  q_17: ──────────────────────╫──╫──╫─────╫─\n",
      "«                              ║  ║  ║     ║ \n",
      "«  q_18: ──────────────────────╫──╫──╫─────╫─\n",
      "«                        ░  ░  ║  ║  ║ ┌─┐ ║ \n",
      "«  q_19: ────────────────░──░──╫──╫──╫─┤M├─╫─\n",
      "«                        ░  ░  ║  ║  ║ └╥┘ ║ \n",
      "«meas: 5/══════════════════════╩══╩══╩══╩══╩═\n",
      "«                              0  1  2  3  4 \n",
      "0665f373-dd09-7c68-8000-c812f592c3c3\n"
     ]
    }
   ],
   "source": [
    "from iqm.qiskit_iqm import IQMProvider, transpile_to_IQM,IQMJob\n",
    "from qiskit import QuantumCircuit\n",
    "from qiskit import visualization\n",
    "\n",
    "\n",
    "# Adapt the server url to match the quantum computer you are using,\n",
    "# for example: https://cocos.resonance.meetiqm.com/garnet\n",
    "server_url = \"https://cocos.resonance.meetiqm.com/<QUANTUM COMPUTER>\"  \n",
    "api_token = \"<INSERT YOUR TOKEN>\"\n",
    "\n",
    "SHOTS = 1000\n",
    "\n",
    "# Define quantum circuit\n",
    "num_qb = 5\n",
    "qc = QuantumCircuit(num_qb)\n",
    "\n",
    "qc.h(0)\n",
    "for qb in range(1, num_qb):\n",
    "    qc.cx(0, qb)\n",
    "qc.barrier()\n",
    "qc.measure_all()\n",
    "\n",
    "# Initialize backend\n",
    "backend = IQMProvider(server_url, token=api_token).get_backend()\n",
    "\n",
    "# Transpile circuit\n",
    "qc_transpiled = transpile_to_IQM(qc, backend)\n",
    "print(qc_transpiled.draw(output=\"text\"))\n",
    "\n",
    "# Run circuit\n",
    "job_submit = backend.run(qc_transpiled, shots=SHOTS)\n",
    "\n",
    "\n"
   ]
  },
  {
   "cell_type": "markdown",
   "metadata": {},
   "source": [
    "Your job has now been successfully submitted to Resonance, and should appear under your \"latest jobs\" tab on the resonance dashboard. In order to access the results of this job once it has finished running, we will need it's unique job_id; this can be found using the following command:"
   ]
  },
  {
   "cell_type": "code",
   "execution_count": 2,
   "metadata": {},
   "outputs": [
    {
     "name": "stdout",
     "output_type": "stream",
     "text": [
      "06638d13-cdf8-758c-8000-9c51b27ee19e\n"
     ]
    }
   ],
   "source": [
    "submitted_job_id=job_submit.job_id()\n",
    "print(submitted_job_id)"
   ]
  },
  {
   "cell_type": "markdown",
   "metadata": {},
   "source": [
    "Alternatively, you can click on the job under \"latest jobs\" to obtain the `job_id` - it is the hexidecimal string immediately after \"Job\" displayed as the title.\n",
    "\n",
    "![](/img/qpu/garnet-job-detail.jpg)\n",
    "\n",
    "\n"
   ]
  },
  {
   "cell_type": "markdown",
   "metadata": {},
   "source": [
    "## Retrieve Job"
   ]
  },
  {
   "cell_type": "markdown",
   "metadata": {},
   "source": [
    "Once the job's status is marked as \"Completed\" in the dashboard, the results are ready to be downloaded. To do this, we define a new job with the same unique id as that which we submitted to the server. This can done via the code below, and works even if the kernel has been restarted since the job's submission:"
   ]
  },
  {
   "cell_type": "code",
   "execution_count": null,
   "metadata": {},
   "outputs": [],
   "source": [
    "retrieved_job = IQMJob(backend,submitted_job_id)"
   ]
  },
  {
   "cell_type": "markdown",
   "metadata": {},
   "source": [
    "Our newly defined job will contain all the results and metadata from the submitted and evaluated job; for example, we can plot the counts we obtained. Here are example results for the circuit defined above:"
   ]
  },
  {
   "cell_type": "code",
   "execution_count": 4,
   "metadata": {},
   "outputs": [
    {
     "data": {
      "image/png": "[encoded data removed]",
      "text/plain": [
       "<Figure size 700x500 with 1 Axes>"
      ]
     },
     "execution_count": 4,
     "metadata": {},
     "output_type": "execute_result"
    }
   ],
   "source": [
    "result_dict = retrieved_job.result().get_counts()\n",
    "visualization.plot_histogram(result_dict)"
   ]
  },
  {
   "cell_type": "markdown",
   "metadata": {},
   "source": [
    "🕣 Now you can go ahead and prepare your circuits ahead of your execution window and submit them when you are ready. This approach saves time by allowing you to queue your experiments and retrieve results later, making it more efficient to manage your experiments 🏎️."
   ]
  },
  {
   "cell_type": "code",
   "execution_count": null,
   "metadata": {},
   "outputs": [],
   "source": [
    "\n",
    "# Copyright 2024 IQM Quantum Computers (Thomas Cope)\n",
    "#\n",
    "# Licensed under the Apache License, Version 2.0 (the \"License\");\n",
    "# you may not use this file except in compliance with the License.\n",
    "# You may obtain a copy of the License at\n",
    "#\n",
    "#     http://www.apache.org/licenses/LICENSE-2.0\n",
    "#\n",
    "# Unless required by applicable law or agreed to in writing, software\n",
    "# distributed under the License is distributed on an \"AS IS\" BASIS,\n",
    "# WITHOUT WARRANTIES OR CONDITIONS OF ANY KIND, either express or implied.\n",
    "# See the License for the specific language governing permissions and\n",
    "# limitations under the License."
   ]
  }
 ],
 "metadata": {
  "kernelspec": {
   "display_name": "envrl+gitlab",
   "language": "python",
   "name": "python3"
  },
  "language_info": {
   "codemirror_mode": {
    "name": "ipython",
    "version": 3
   },
   "file_extension": ".py",
   "mimetype": "text/x-python",
   "name": "python",
   "nbconvert_exporter": "python",
   "pygments_lexer": "ipython3",
   "version": "3.11.5"
  }
 },
 "nbformat": 4,
 "nbformat_minor": 2
}

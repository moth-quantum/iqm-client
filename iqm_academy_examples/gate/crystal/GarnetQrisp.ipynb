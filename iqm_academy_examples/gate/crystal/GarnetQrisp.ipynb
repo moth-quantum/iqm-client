{
 "cells": [
  {
   "attachments": {},
   "cell_type": "markdown",
   "id": "13ce3e15",
   "metadata": {},
   "source": [
    "# Executing a circuit using Qrisp on IQM Garnet\n",
    "\n",
    "Qrisp is a quantum programming language build around the concept of quantum variables. It is designed to be a high-level language that is easy to use and understand. Qrisp is a great tool for beginners to learn quantum computing and for experts to quickly prototype quantum algorithms. It offers a fresh take on quantum programming. You can learn more about Qrisp on the official website: [https://qrisp.eu/](https://qrisp.eu/).\n",
    "\n",
    "\n",
    "In this notebook, you will learn how to ...\n",
    "* ... run a Qrisp program on an IQM backend.\n",
    "\n",
    "\n",
    "### Installing the necessary packages\n",
    "In order to get started, make sure you have the appropriate packages installed. Make sure that you install qrisp with the iqm extension."
   ]
  },
  {
   "cell_type": "code",
   "execution_count": null,
   "id": "18db38ae",
   "metadata": {},
   "outputs": [],
   "source": [
    "%%capture\n",
    "!pip install qrisp[iqm]"
   ]
  },
  {
   "attachments": {},
   "cell_type": "markdown",
   "id": "853eed3d",
   "metadata": {},
   "source": [
    "### Writing a Qrisp program\n",
    "\n",
    "Qrisp provides advanced quantum data types such as QuantumFloat that we will use in this example. In this example we will encode a 2 it will multiply it with itself and then measure the result. \n",
    "\n",
    "Let's run it on a simulator first."
   ]
  },
  {
   "cell_type": "code",
   "execution_count": 1,
   "id": "4d2c9406",
   "metadata": {},
   "outputs": [
    {
     "data": {
      "text/plain": [
       "{4: 1.0}"
      ]
     },
     "execution_count": 1,
     "metadata": {},
     "output_type": "execute_result"
    }
   ],
   "source": [
    "from qrisp import *\n",
    "a = QuantumFloat(2)\n",
    "a[:] = 2\n",
    "b = a*a\n",
    "b.get_measurement()"
   ]
  },
  {
   "attachments": {},
   "cell_type": "markdown",
   "id": "37081f56",
   "metadata": {},
   "source": [
    "## Running that circuit on IQM Resonance\n",
    "\n",
    "Now, let's run that same circuit on IQM Resonance.\n",
    "In order to access IQM Garnet through Qrisp, we will need to create an API Token. Copy the token, and add it as a parameter `api_token` to the `IQMBackend` function. It is recommended to load it from an environment variable."
   ]
  },
  {
   "cell_type": "code",
   "execution_count": 2,
   "id": "9ed3ea8b",
   "metadata": {},
   "outputs": [
    {
     "data": {
      "text/plain": [
       "{4: 0.548,\n",
       " 5: 0.082,\n",
       " 0: 0.063,\n",
       " 6: 0.042,\n",
       " 8: 0.031,\n",
       " 2: 0.029,\n",
       " 12: 0.014,\n",
       " 10: 0.03,\n",
       " 1: 0.027,\n",
       " 7: 0.025,\n",
       " 15: 0.023,\n",
       " 9: 0.021,\n",
       " 14: 0.021,\n",
       " 13: 0.018,\n",
       " 11: 0.014,\n",
       " 3: 0.012}"
      ]
     },
     "execution_count": 2,
     "metadata": {},
     "output_type": "execute_result"
    }
   ],
   "source": [
    "from qrisp.interface import IQMBackend\n",
    "qrisp_garnet = IQMBackend(api_token = \"IQM_RESONANCE_API_TOKEN\", \n",
    "                          device_instance = \"garnet\")\n",
    "\n",
    "a = QuantumFloat(2)\n",
    "a[:] = 2\n",
    "b = a*a\n",
    "b.get_measurement(backend = qrisp_garnet)"
   ]
  },
  {
   "attachments": {},
   "cell_type": "markdown",
   "id": "cd7d3ccd",
   "metadata": {},
   "source": [
    "We can also set the number of shots as a parameter."
   ]
  },
  {
   "cell_type": "code",
   "execution_count": null,
   "id": "b5306ecf",
   "metadata": {},
   "outputs": [],
   "source": [
    "a = QuantumFloat(2)\n",
    "a[:] = 2\n",
    "b = a*a\n",
    "b.get_measurement(backend = qrisp_garnet, shots=2000)"
   ]
  },
  {
   "cell_type": "code",
   "execution_count": null,
   "id": "bf524a37",
   "metadata": {},
   "outputs": [],
   "source": [
    "# Copyright 2024 IQM Quantum Computers (Stefan Seegerer)\n",
    "#\n",
    "# Licensed under the Apache License, Version 2.0 (the \"License\");\n",
    "# you may not use this file except in compliance with the License.\n",
    "# You may obtain a copy of the License at\n",
    "#\n",
    "#     http://www.apache.org/licenses/LICENSE-2.0\n",
    "#\n",
    "# Unless required by applicable law or agreed to in writing, software\n",
    "# distributed under the License is distributed on an \"AS IS\" BASIS,\n",
    "# WITHOUT WARRANTIES OR CONDITIONS OF ANY KIND, either express or implied.\n",
    "# See the License for the specific language governing permissions and\n",
    "# limitations under the License."
   ]
  }
 ],
 "metadata": {
  "kernelspec": {
   "display_name": "Python 3 (ipykernel)",
   "language": "python",
   "name": "python3"
  },
  "language_info": {
   "codemirror_mode": {
    "name": "ipython",
    "version": 3
   },
   "file_extension": ".py",
   "mimetype": "text/x-python",
   "name": "python",
   "nbconvert_exporter": "python",
   "pygments_lexer": "ipython3",
   "version": "3.9.18"
  }
 },
 "nbformat": 4,
 "nbformat_minor": 5
}

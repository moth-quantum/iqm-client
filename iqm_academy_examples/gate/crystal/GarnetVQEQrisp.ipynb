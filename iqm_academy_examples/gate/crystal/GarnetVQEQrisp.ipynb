{
 "cells": [
  {
   "cell_type": "markdown",
   "id": "ffc44e39",
   "metadata": {},
   "source": [
    "# Running a Variational Quantum Algorithm on IQM Crystal using Qrisp\n",
    "\n",
    "This notebook demonstrates how to run a variational quantum algorithm on an IQM Crystal quantum processor using the Qrisp library. The example uses the Variational Quantum Eigensolver (VQE) to calculate the ground state energy of the Hydrogen molecule (H2).\n",
    "\n",
    "In order to install Qrisp, you can use the following command:\n"
   ]
  },
  {
   "cell_type": "code",
   "execution_count": null,
   "id": "562b7026",
   "metadata": {},
   "outputs": [],
   "source": [
    "!pip install \"qrisp[iqm]\""
   ]
  },
  {
   "cell_type": "markdown",
   "id": "d281ebbd",
   "metadata": {},
   "source": [
    "\n",
    "## Define an IQM Backend\n",
    "\n",
    "Then, we need to define an `IQMBackend`:"
   ]
  },
  {
   "cell_type": "code",
   "execution_count": null,
   "id": "0ffb3428",
   "metadata": {},
   "outputs": [],
   "source": [
    "from qrisp.interface import IQMBackend\n",
    "qrisp_garnet = IQMBackend(api_token = \"YOUR_TOKEN\", device_instance = \"garnet\")"
   ]
  },
  {
   "cell_type": "markdown",
   "id": "2369d04a",
   "metadata": {},
   "source": [
    "## Using VQE to calculate the ground state energy of the Hydrogen molecule on IQM Garnet\n",
    "Qrisp has built-in functionality to run VQE on an IQM backend. The following code demonstrates how to do this:"
   ]
  },
  {
   "cell_type": "code",
   "execution_count": 7,
   "id": "dd1caac2",
   "metadata": {},
   "outputs": [
    {
     "name": "stdout",
     "output_type": "stream",
     "text": [
      "-1.6314065797709651\n"
     ]
    }
   ],
   "source": [
    "from qrisp import *\n",
    "from qrisp.operators.qubit import X,Y,Z\n",
    "\n",
    "# Problem Hamiltonian\n",
    "c = [-0.81054, 0.16614, 0.16892, 0.17218, -0.22573, 0.12091, 0.166145, 0.04523]\n",
    "H = c[0] \\\n",
    "    + c[1]*Z(0)*Z(2) \\\n",
    "    + c[2]*Z(1)*Z(3) \\\n",
    "    + c[3]*(Z(3) + Z(1)) \\\n",
    "    + c[4]*(Z(2) + Z(0)) \\\n",
    "    + c[5]*(Z(2)*Z(3) + Z(0)*Z(1)) \\\n",
    "    + c[6]*(Z(0)*Z(3) + Z(1)*Z(2)) \\\n",
    "    + c[7]*(Y(0)*Y(1)*Y(2)*Y(3) + X(0)*X(1)*Y(2)*Y(3) + Y(0)*Y(1)*X(2)*X(3) + X(0)*X(1)*X(2)*X(3))\n",
    "\n",
    "# Ansatz\n",
    "def ansatz(qv,theta):\n",
    "    for i in range(4):\n",
    "        ry(theta[i],qv[i])\n",
    "    for i in range(3):\n",
    "        cx(qv[i],qv[i+1])\n",
    "    cx(qv[3],qv[0])\n",
    "\n",
    "from qrisp.vqe.vqe_problem import *\n",
    "\n",
    "vqe = VQEProblem(hamiltonian = H,\n",
    "                 ansatz_function = ansatz,\n",
    "                 num_params=4,\n",
    "                 callback=True)\n",
    "\n",
    "energy = vqe.run(qarg = QuantumVariable(4),\n",
    "              depth = 1,\n",
    "              max_iter=30,\n",
    "              #mes_kwargs={'precision':0.01,'diagonalisation_method':'commuting'} # RUN ON SIMULATOR\n",
    "              mes_kwargs={'backend':qrisp_garnet,'precision':0.02,'diagonalisation_method':'commuting'} # RUN ON IQM Garnet \n",
    "            )\n",
    "print(energy)\n",
    "# Yields -1.864179046"
   ]
  },
  {
   "cell_type": "markdown",
   "id": "51394969",
   "metadata": {},
   "source": []
  },
  {
   "cell_type": "code",
   "execution_count": null,
   "id": "29de0fe8",
   "metadata": {},
   "outputs": [],
   "source": [
    "\n",
    "# Copyright 2025 (Rene Zander, Stefan Seegerer)\n",
    "#\n",
    "# Licensed under the Apache License, Version 2.0 (the \"License\");\n",
    "# you may not use this file except in compliance with the License.\n",
    "# You may obtain a copy of the License at\n",
    "#\n",
    "#     http://www.apache.org/licenses/LICENSE-2.0\n",
    "#\n",
    "# Unless required by applicable law or agreed to in writing, software\n",
    "# distributed under the License is distributed on an \"AS IS\" BASIS,\n",
    "# WITHOUT WARRANTIES OR CONDITIONS OF ANY KIND, either express or implied.\n",
    "# See the License for the specific language governing permissions and\n",
    "# limitations under the License."
   ]
  }
 ],
 "metadata": {
  "kernelspec": {
   "display_name": "qrisp",
   "language": "python",
   "name": "python3"
  },
  "language_info": {
   "codemirror_mode": {
    "name": "ipython",
    "version": 3
   },
   "file_extension": ".py",
   "mimetype": "text/x-python",
   "name": "python",
   "nbconvert_exporter": "python",
   "pygments_lexer": "ipython3",
   "version": "3.11.11"
  }
 },
 "nbformat": 4,
 "nbformat_minor": 5
}

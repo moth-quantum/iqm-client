{
 "cells": [
  {
   "attachments": {},
   "cell_type": "markdown",
   "id": "13ce3e15",
   "metadata": {},
   "source": [
    "# Creating a GHZ state with IQM Deneb and Cirq\n",
    "\n",
    "Creating a GHZ state is  a great task to understand the fine-grained differences between the architecture provided by IQM Deneb and other architectures like a standard square lattice or a heavy-hexagonal lattice. \n",
    "\n",
    "In this notebook, you will learn how to ...\n",
    "* ... use the MOVE operation involving the computational resonator element.\n",
    "* ... create a GHZ state with IQM Deneb.\n",
    "* ... verify genuine multi-qubit entanglement by measuring the fidelity of the GHZ state using the multiple quantum coherence method.\n",
    "\n",
    "By the end of this notebook, you will not only have a solid understanding of how to execute a circuit on IQM Deneb, but you will also appreciate the subtleties that differentiate various quantum computing architectures and their impact on quantum information processing. This exploration will provide you with the skills that are essential for advancing with this new quantum computing architecture and making full use of the computational resonator to advance the field of quantum computing.\n",
    "\n",
    "### Installing the necessary packages\n",
    "In order to get started, make sure you have the appropriate packages installed:"
   ]
  },
  {
   "cell_type": "code",
   "execution_count": 16,
   "id": "18db38ae",
   "metadata": {},
   "outputs": [],
   "source": [
    "%%capture\n",
    "!pip install \"iqm-client[cirq]\"\n",
    "!pip install matplotlib\n",
    "!pip install pylatexenc"
   ]
  },
  {
   "attachments": {},
   "cell_type": "markdown",
   "id": "853eed3d",
   "metadata": {},
   "source": [
    "In order to access IQM Deneb through IQM Resonance, you will need to create an API Token. Copy the token, execute the cell, and paste the token to store it as an environment variable (or follow the guidelines for your system to create an environment variable)."
   ]
  },
  {
   "cell_type": "code",
   "execution_count": 1,
   "id": "4d2c9406",
   "metadata": {},
   "outputs": [],
   "source": [
    "import os\n",
    "os.environ[\"IQM_TOKEN\"] = input()"
   ]
  },
  {
   "attachments": {},
   "cell_type": "markdown",
   "id": "37081f56",
   "metadata": {},
   "source": [
    "## Connecting to IQM Deneb\n",
    "\n",
    "Let's first check that our connection is working.\n",
    "\n",
    "We do this by authenticating ourselves to IQM Resonance."
   ]
  },
  {
   "cell_type": "code",
   "execution_count": 10,
   "id": "9ed3ea8b",
   "metadata": {},
   "outputs": [],
   "source": [
    "from iqm.cirq_iqm.iqm_sampler import IQMSampler\n",
    "\n",
    "server_url=\"https://cocos.resonance.meetiqm.com/deneb\"\n",
    "sampler = IQMSampler(server_url) \n",
    "\n",
    "# Instead of setting the environment variable, you could add the token as an argument to the IQMProvider constructor\n",
    "# sampler = IQMSampler(server_url, token=token)"
   ]
  },
  {
   "attachments": {},
   "cell_type": "markdown",
   "id": "c09fc922",
   "metadata": {},
   "source": [
    "## Creating the GHZ state using a simulator\n",
    "\n",
    "The GHZ (Greenberger-Horne-Zeilinger) state is a maximally entangled quantum state that involves three or more qubits. It is an equal superposition of all qubits being in state 0 and all qubits being in state 1. For the six qubits we have available on IQM Deneb, this can be represented as:\n",
    "\n",
    "$$\\frac{1}{\\sqrt{2}}(∣000000⟩+ ∣111111⟩)$$\n",
    "\n",
    "If we want to create a GHZ state for a simulator without considering connectivity constraints given by actual quantum computing hardware, we can just:"
   ]
  },
  {
   "cell_type": "code",
   "execution_count": 16,
   "id": "f0e4741a",
   "metadata": {},
   "outputs": [
    {
     "name": "stdout",
     "output_type": "stream",
     "text": [
      "(0, 0): ───H───@───@───@───@───@───M('result')───\n",
      "               │   │   │   │   │   │\n",
      "(0, 1): ───────X───┼───┼───┼───┼───M─────────────\n",
      "                   │   │   │   │   │\n",
      "(0, 2): ───────────X───┼───┼───┼───M─────────────\n",
      "                       │   │   │   │\n",
      "(0, 3): ───────────────X───┼───┼───M─────────────\n",
      "                           │   │   │\n",
      "(0, 4): ───────────────────X───┼───M─────────────\n",
      "                               │   │\n",
      "(0, 5): ───────────────────────X───M─────────────\n"
     ]
    }
   ],
   "source": [
    "import cirq\n",
    "\n",
    "# Create 6 qubits\n",
    "num_qb = 6\n",
    "qubits = [cirq.GridQubit(0, i) for i in range(num_qb)]\n",
    "\n",
    "# Create a circuit\n",
    "circuit = cirq.Circuit()\n",
    "\n",
    "# Apply Hadamard gate to the first qubit\n",
    "circuit.append(cirq.H(qubits[0]))\n",
    "\n",
    "# Apply CNOT gates\n",
    "for qb in qubits[1:]:\n",
    "    circuit.append(cirq.CNOT(qubits[0], qb))\n",
    "\n",
    "# Measure all qubits\n",
    "circuit.append(cirq.measure(*qubits, key='result'))\n",
    "\n",
    "# Draw the circuit\n",
    "print(circuit)"
   ]
  },
  {
   "attachments": {},
   "cell_type": "markdown",
   "id": "1d2e122e",
   "metadata": {},
   "source": [
    "## Creating the GHZ state with IQM Deneb\n",
    "\n",
    "When adapting GHZ state generation to the star lattice topology, with a computational resonator as the central element, as seen in IQM Deneb, we need to approach things slightly differently."
   ]
  },
  {
   "attachments": {},
   "cell_type": "markdown",
   "id": "26037460",
   "metadata": {},
   "source": [
    "In order to create a GHZ state, we follow the steps below:\n",
    "\n",
    "<ol>\n",
    "<li> First, we initiate the process by <b>creating a superposition</b> using a Hadamard gate <span style=\"    display: inline-block; min-width: 1.7rem; text-align: center; background: linear-gradient(0.45turn, rgba(255, 255, 255, 0.1), rgba(0, 0, 0, 0.05)) rgb(80, 90, 98); color: white; padding: 0.1rem; margin: 0.05rem; font-weight: 600; border-radius: 0.2rem;\">H</span> on a qubit. For this example, we select <code>q[0]</code> (the first qubit in the qubit register).\n",
    "</li>\n",
    "<li> After establishing the superposition, we <span style=\"display: inline-block; min-width: 1.7rem; text-align: center; background: linear-gradient(0.45turn, rgba(255, 255, 255, 0.1), rgba(0, 0, 0, 0.05)) rgb(80, 90, 98); color: white; padding: 0.1rem; margin: 0.05rem; font-weight: 600 border-radius: 0.2rem;\">MOVE</span> <b>the state into the resonator</b>, which is given by the `comp_r` register. This step is crucial for preparing the system for further operations.\n",
    "</li>\n",
    "<li>  Next, we <b>apply <span style=\"display: inline-block; min-width: 1.7rem; text-align: center; background: linear-gradient(0.45turn, rgba(255, 255, 255, 0.1), rgba(0, 0, 0, 0.05)) rgb(80, 90, 98); color: white; padding: 0.1rem; margin: 0.05rem; font-weight: 600; border-radius: 0.2rem;\">CNOT</span> gates from the resonator to all other qubits</b>.\n",
    "</li>\n",
    "<li> Finally, we perform <b>measurements on all qubits in register</b> <code>q</code> and map these measurements to the classical bit register called <code>c</code>. Note that the resonator is not measured in this process. \n",
    "</li>\n",
    "</ol>\n",
    "\n",
    "<div style=\"background-color: white;  margin: 20px 0px; padding: 20px; border-left: 3px solid rgb(222, 199, 84);\"> \n",
    "The <span style=\"display: inline-block; min-width: 1.7rem; text-align: center; background: linear-gradient(0.45turn, rgba(255, 255, 255, 0.1), rgba(0, 0, 0, 0.05)) rgb(80, 90, 98); color: white; padding: 0.1rem; margin: 0.05rem; font-weight: 600; border-radius: 0.2rem;\">MOVE</span> operation syntax requires the first index to be the qubit and the second index to be the resonator!\n",
    "</div>"
   ]
  },
  {
   "cell_type": "code",
   "execution_count": 23,
   "id": "2b301b8d",
   "metadata": {},
   "outputs": [
    {
     "name": "stdout",
     "output_type": "stream",
     "text": [
      "COMP_R (d=2): ───────MOVE(Res)───@───@───@───@───@───MOVE(Res)─────────────────\n",
      "                     │           │   │   │   │   │   │\n",
      "QB1 (d=2): ──────H───MOVE(QB)────┼───┼───┼───┼───┼───MOVE(QB)────M('result')───\n",
      "                                 │   │   │   │   │               │\n",
      "QB2 (d=2): ──────────────────────X───┼───┼───┼───┼───────────────M─────────────\n",
      "                                     │   │   │   │               │\n",
      "QB3 (d=2): ──────────────────────────X───┼───┼───┼───────────────M─────────────\n",
      "                                         │   │   │               │\n",
      "QB4 (d=2): ──────────────────────────────X───┼───┼───────────────M─────────────\n",
      "                                             │   │               │\n",
      "QB5 (d=2): ──────────────────────────────────X───┼───────────────M─────────────\n",
      "                                                 │               │\n",
      "QB6 (d=2): ──────────────────────────────────────X───────────────M─────────────\n"
     ]
    }
   ],
   "source": [
    "import cirq\n",
    "from iqm.cirq_iqm.iqm_gates import IQMMoveGate\n",
    "\n",
    "qubits = sampler.device.qubits\n",
    "resonators = sampler.device.resonators\n",
    "\n",
    "# Create a circuit\n",
    "circuit = cirq.Circuit()\n",
    "\n",
    "# Apply Hadamard gate to the first qubit\n",
    "circuit.append(cirq.H(qubits[0]))\n",
    "\n",
    "# MOVE into the resonator\n",
    "circuit.append(IQMMoveGate().on(qubits[0], resonators[0]))\n",
    "\n",
    "# Apply CNOT gates\n",
    "for qb in qubits[1:]:\n",
    "    circuit.append(cirq.CNOT(resonators[0], qb))\n",
    "\n",
    "# MOVE out of the resonator\n",
    "circuit.append(IQMMoveGate().on(qubits[0], resonators[0]))\n",
    "\n",
    "# Measure all qubits\n",
    "circuit.append(cirq.measure(*qubits, key='result'))\n",
    "\n",
    "# Draw the circuit\n",
    "print(circuit)"
   ]
  },
  {
   "attachments": {},
   "cell_type": "markdown",
   "id": "28e47f88",
   "metadata": {},
   "source": [
    "<div style=\"background-color: white; margin: 20px 0px; padding: 20px; border-left: 3px solid rgb(222, 199, 84);\">\n",
    "With the circuit prepared, we can now send it to our quantum computer and examine the results. Therefore, we transpile the circuit which will carry out several transpilation steps, including decomposing the <span style=\"    display: inline-block; min-width: 1.7rem; text-align: center; background: linear-gradient(0.45turn, rgba(255, 255, 255, 0.1), rgba(0, 0, 0, 0.05)) rgb(80, 90, 98); color: white; padding: 0.1rem; margin: 0.05rem; font-weight: 600; border-radius: 0.2rem;\">CNOT</span> gate into native gates. Then, we call the run method on backend to execute the circuit on the quantum computer.\n",
    "</div>"
   ]
  },
  {
   "cell_type": "code",
   "execution_count": 31,
   "id": "d31649f9",
   "metadata": {},
   "outputs": [
    {
     "name": "stdout",
     "output_type": "stream",
     "text": [
      "                                              ┌──────┐   ┌──────┐   ┌──────┐   ┌──────┐\n",
      "COMP_R (d=2): ────────────────MOVE(Res)───@─────────@──────────@──────────@──────────@────MOVE(Res)─────────────────\n",
      "                              │           │         │          │          │          │    │\n",
      "QB1 (d=2): ──────Y^0.5────X───MOVE(QB)────┼─────────┼──────────┼──────────┼──────────┼────MOVE(QB)────M('result')───\n",
      "                                          │         │          │          │          │                │\n",
      "QB2 (d=2): ──────Y^-0.5───────────────────@────Y^0.5┼──────────┼──────────┼──────────┼────────────────M─────────────\n",
      "                                                    │          │          │          │                │\n",
      "QB3 (d=2): ──────Y^-0.5─────────────────────────────@─────Y^0.5┼──────────┼──────────┼────────────────M─────────────\n",
      "                                                               │          │          │                │\n",
      "QB4 (d=2): ──────Y^-0.5────────────────────────────────────────@─────Y^0.5┼──────────┼────────────────M─────────────\n",
      "                                                                          │          │                │\n",
      "QB5 (d=2): ──────Y^-0.5───────────────────────────────────────────────────@─────Y^0.5┼────────────────M─────────────\n",
      "                                                                                     │                │\n",
      "QB6 (d=2): ──────Y^-0.5──────────────────────────────────────────────────────────────@────Y^0.5───────M─────────────\n",
      "                                              └──────┘   └──────┘   └──────┘   └──────┘\n"
     ]
    }
   ],
   "source": [
    "decomposed_circuit = sampler.device.decompose_circuit(circuit)\n",
    "print(decomposed_circuit)\n",
    "\n",
    "result = sampler.run(decomposed_circuit, repetitions=1000)\n"
   ]
  },
  {
   "cell_type": "code",
   "execution_count": 32,
   "id": "1b5954c7",
   "metadata": {},
   "outputs": [
    {
     "data": {
      "image/png": "[encoded data removed]",
      "text/plain": [
       "<Figure size 2000x600 with 1 Axes>"
      ]
     },
     "metadata": {},
     "output_type": "display_data"
    }
   ],
   "source": [
    "import matplotlib.pyplot as plt\n",
    "\n",
    "counts = result.histogram(key='result')\n",
    "\n",
    "# Sort keys numerically for proper plotting\n",
    "sorted_counts = dict(sorted(counts.items()))\n",
    "\n",
    "# Convert bitstrings to integers for plotting\n",
    "x_labels = list(sorted_counts.keys())\n",
    "x_values = range(len(x_labels))\n",
    "y_values = list(sorted_counts.values())\n",
    "\n",
    "# Plot histogram\n",
    "fig, ax = plt.subplots(figsize=(20, 6))\n",
    "ax.bar(x_values, y_values, tick_label=x_labels)\n",
    "\n",
    "# Display plot\n",
    "plt.show()"
   ]
  },
  {
   "attachments": {},
   "cell_type": "markdown",
   "id": "2cbef8ac",
   "metadata": {},
   "source": [
    "The result looks indeed like a GHZ state: We observe two distinct peaks corresponding to the bitstrings composed entirely of zeros and entirely of ones. The remaining counts are indicative of noise and errors within the system. You can experiment further and apply error mitigation schemes to reduce these errors."
   ]
  },
  {
   "attachments": {},
   "cell_type": "markdown",
   "id": "5461d2f4",
   "metadata": {},
   "source": [
    "## Verifying genuine multi-qubit entanglement by measuring the GHZ state fidelity\n",
    "\n",
    "The GHZ state fidelity acts as a witness for genuine multi-qubit entanglement if found to be above $0.5$ (more precisely, it has been shown that this is equivalent to measuring a negative expectation value of a multipartite entanglement witness - see [Mooney, 2021](https://iopscience.iop.org/article/10.1088/2399-6528/ac1df7/meta) and references therein). This means that the measurement results cannot be explained without entanglement involving all qubits, so it is a great way to evaluate the \"quantumness\" of the computer. \n",
    "\n",
    "The fidelity of a mixed state is computed using the [formula](https://en.wikipedia.org/wiki/Fidelity_of_quantum_states) \n",
    "$$F(\\text{ideal}, \\text{measured})= \\left(\\text{Tr}\\sqrt{\\sqrt{\\rho_{\\text{ideal}}}\\rho_{\\text{measured}}\\sqrt{\\rho_{\\text{ideal}}}}\\right)^2$$\n",
    "\n",
    "where $\\rho_{\\text{ideal}}$ is the density matrix of an ideal GHZ state (i.e. without noise) and $\\rho_{\\text{measured}}$ is the density matrix as given by the actual results of the quantum computer. The ideal GHZ state density matrix only has non-zero entries in the four corners of the density matrix $|00...0\\rangle\\langle00...0|$, $|00...0\\rangle \\langle11...1|$, $|11...1\\rangle \\langle00...0|$, $|11...1\\rangle \\langle11...1|$. This simplifies the process since we only need to measure these four components. In the fidelity formula, all other entries are effectively nullified by the zero entries in the ideal state matrix. \n",
    "\n",
    "From the experiment above we obtained the diagonal elements of $\\rho_{\\text{measured}}$, but we still need to measure the coherences along the anti-diagonal. We will use the method of multiple quantum coherences to measure these off-diagonal entries [Mooney, 2021](https://iopscience.iop.org/article/10.1088/2399-6528/ac1df7/meta). \n",
    "\n",
    "This method leverages the fact that for a GHZ state, a phase rotation $e^{i\\phi}$ applied to all $n$ qubits results in the $|11...1\\rangle$ component acquiring a cumulative phase of $e^{in\\phi}$. The $|00...0\\rangle$ component remains unaffected by this phase rotation and does not accumulate any phase. To measure this, we generate a GHZ state, apply phase shifts to all qubits, and then attempt to reverse the state using the circuit that initially created the GHZ state. From this, we can then observe the oscillation of the probability of the $|00...0\\rangle$ component as we scan the phase angle from $0$ to $2\\pi$. By fourier transforming the signal we can extract the amplitude of the oscillation happening at frequency $n$, which is a measure of the $|00...0\\rangle \\langle11...1|,|11...1 \\rangle \\langle00...0|$ coherences."
   ]
  },
  {
   "attachments": {},
   "cell_type": "markdown",
   "id": "f3db8ff8",
   "metadata": {},
   "source": [
    "In order to perform these measurements, we first need to generate the phase-shifter circuits used in the method of multiple quantum coherences. We will create $2n+2$ of these circuits, which is the maximal step-size for detecting a signal oscillating at frequency $n$ according to the [Nyquist–Shannon sampling theorem](https://en.wikipedia.org/wiki/Nyquist%E2%80%93Shannon_sampling_theorem). "
   ]
  },
  {
   "cell_type": "code",
   "execution_count": 37,
   "id": "729323c8",
   "metadata": {},
   "outputs": [
    {
     "name": "stdout",
     "output_type": "stream",
     "text": [
      "                                     ┌─────────┐   ┌─────────┐   ┌─────────┐   ┌─────────┐\n",
      "COMP_R (d=2): ───────MOVE(Res)───@────@─────────────@─────────────@─────────────@────────────MOVE(Res)──────────────MOVE(Res)───@───@───@───@───@───MOVE(Res)─────────────────────\n",
      "                     │           │    │             │             │             │            │                      │           │   │   │   │   │   │\n",
      "QB1 (d=2): ──────H───MOVE(QB)────┼────┼─────────────┼─────────────┼─────────────┼────────────MOVE(QB)────Z^(2/13)───MOVE(QB)────┼───┼───┼───┼───┼───MOVE(QB)────H───M('result')───\n",
      "                                 │    │             │             │             │                                               │   │   │   │   │                   │\n",
      "QB2 (d=2): ──────────────────────X────┼Z^(2/13)─────┼─────────────┼─────────────┼───────────────────────────────────────────────┼───┼───┼───┼───X───────────────────M─────────────\n",
      "                                      │             │             │             │                                               │   │   │   │                       │\n",
      "QB3 (d=2): ───────────────────────────X─────────────┼Z^(2/13)─────┼─────────────┼───────────────────────────────────────────────┼───┼───┼───X───────────────────────M─────────────\n",
      "                                                    │             │             │                                               │   │   │                           │\n",
      "QB4 (d=2): ─────────────────────────────────────────X─────────────┼Z^(2/13)─────┼───────────────────────────────────────────────┼───┼───X───────────────────────────M─────────────\n",
      "                                                                  │             │                                               │   │                               │\n",
      "QB5 (d=2): ───────────────────────────────────────────────────────X─────────────┼Z^(2/13)───────────────────────────────────────┼───X───────────────────────────────M─────────────\n",
      "                                                                                │                                               │                                   │\n",
      "QB6 (d=2): ─────────────────────────────────────────────────────────────────────X────────────Z^(2/13)───────────────────────────X───────────────────────────────────M─────────────\n",
      "                                     └─────────┘   └─────────┘   └─────────┘   └─────────┘\n"
     ]
    }
   ],
   "source": [
    "import numpy as np\n",
    "import cirq\n",
    "from iqm.cirq_iqm.iqm_gates import IQMMoveGate\n",
    "\n",
    "qubits = sampler.device.qubits\n",
    "num_qb = len(qubits)\n",
    "resonators = sampler.device.resonators\n",
    "\n",
    "phases = np.linspace(0, 2 * np.pi, 2 * num_qb + 2)\n",
    "circuits = []\n",
    "\n",
    "for phase in phases:\n",
    "    circuit = cirq.Circuit()\n",
    "\n",
    "    # Creating a GHZ state\n",
    "    circuit.append(cirq.H(qubits[0]))\n",
    "    circuit.append(IQMMoveGate().on(qubits[0], resonators[0]))  # MOVE into the resonator\n",
    "    for qb in qubits[1:]:\n",
    "        circuit.append(cirq.CNOT(resonators[0], qb))\n",
    "    circuit.append(IQMMoveGate().on(qubits[0], resonators[0]))  # MOVE out of the resonator\n",
    "\n",
    "    # Adding phases\n",
    "    for qb in qubits:\n",
    "        circuit.append(cirq.Z(qb) ** (phase / np.pi))\n",
    "\n",
    "    # Undoing GHZ can be achieved by applying the same operations as above in reverse order\n",
    "    circuit.append(IQMMoveGate().on(qubits[0], resonators[0]))  # MOVE into the resonator\n",
    "    for qb in reversed(qubits[1:]):\n",
    "        circuit.append(cirq.CNOT(resonators[0], qb))\n",
    "    circuit.append(IQMMoveGate().on(qubits[0], resonators[0]))  # MOVE out of the resonator\n",
    "    circuit.append(cirq.H(qubits[0]))\n",
    "\n",
    "    # Measure\n",
    "    circuit.append(cirq.measure(*qubits, key='result'))\n",
    "    circuits.append(circuit)\n",
    "\n",
    "# Draw a circuit as an example\n",
    "print(circuits[1])"
   ]
  },
  {
   "attachments": {},
   "cell_type": "markdown",
   "id": "8f100ca0",
   "metadata": {},
   "source": [
    "Now we are ready to send our circuits to the quantum computer. Instead of sending them individually, we will send them all at once in a single batch for faster execution. A batch is a list that contains several circuits and, under most circumstances, is more time-efficient."
   ]
  },
  {
   "cell_type": "code",
   "execution_count": 59,
   "id": "41b32aa1",
   "metadata": {},
   "outputs": [],
   "source": [
    "shots = 1000\n",
    "decomposed_circuits = [sampler.device.decompose_circuit(circuit) for circuit in circuits]\n",
    "results = sampler.run_iqm_batch(decomposed_circuits, repetitions=shots)"
   ]
  },
  {
   "attachments": {},
   "cell_type": "markdown",
   "id": "c5ae6b14",
   "metadata": {},
   "source": [
    "With our job completed, we can collect the results from IQM Deneb and use them to calculate the coherences and the fidelity of the GHZ state."
   ]
  },
  {
   "cell_type": "code",
   "execution_count": 61,
   "id": "a1b56ff5",
   "metadata": {},
   "outputs": [
    {
     "name": "stdout",
     "output_type": "stream",
     "text": [
      "Measured GHZ Fidelity = 0.8182494497506618\n"
     ]
    }
   ],
   "source": [
    "counts = [result.histogram(key='result') for result in results] # Retrieve the list of counts from the batch job result\n",
    "\n",
    "all_zero_probability_list=[] # An ordered list for storing the probabilites of returning to the |00..0> state\n",
    "\n",
    "for count in counts:\n",
    "    probability = count[0]/shots\n",
    "    all_zero_probability_list.append(probability)\n",
    "\n",
    "# Computing the phase acquired by the |11...1> component for each interval\n",
    "complex_coefficients = np.exp(1j*num_qb*np.array(phases))\n",
    "\n",
    "# Extracting coherence parameter i_n using the fourier transform\n",
    "i_n = np.abs(np.dot(complex_coefficients,np.array(all_zero_probability_list)))/(len(phases)) \n",
    "\n",
    "# Extracting the probabilites of the 00...0 and 11...1 bitstrings (0 and 63 in integer representation)\n",
    "# from the results of the first half of this notebook\n",
    "counts_direct = result.histogram(key='result')# res.get_counts()\n",
    "probs_direct = {label: count / shots for label, count in counts_direct.items()}\n",
    "\n",
    "# Computing GHZ state fidelity from i_n and the probabilites according to the method in [Mooney, 2021]\n",
    "fidelity=(probs_direct[0]+probs_direct[63])/2 + np.sqrt(i_n)\n",
    "\n",
    "print(\"Measured GHZ Fidelity = \" + str(fidelity))"
   ]
  },
  {
   "attachments": {},
   "cell_type": "markdown",
   "id": "95c1d2a5",
   "metadata": {},
   "source": [
    "This result shows us that we have created a GHZ-state with fidelity $>0.5$, certifying the \"quantumness\" of the device through genuine multi-qubit entanglement. The measurement results cannot be explained through fewer then 6 qubits entangled.\n",
    "\n",
    "This entangled state was created by using the central resonator to connect one qubit in a superposition directly with all the other qubits of the processor. "
   ]
  },
  {
   "attachments": {},
   "cell_type": "markdown",
   "id": "1e777157",
   "metadata": {},
   "source": [
    "## Using the transpiler\n",
    "\n",
    "<div>\n",
    "While engaging with the resonator for scientific and exploratory reasons is fascinating, there may be instances when you prefer these processes to be managed automatically. In such cases, you can rely on the transpiler, which will automatically handle the insertion of the <span style=\"display: inline-block; min-width: 1.7rem; text-align: center; background: linear-gradient(0.45turn, rgba(255, 255, 255, 0.1), rgba(0, 0, 0, 0.05)) rgb(80, 90, 98); color: white; padding: 0.1rem; margin: 0.05rem; font-weight: 600; border-radius: 0.2rem;\">MOVE</span> operation. How to accomplish this will be covered in the next tutorial on the Quantum Approximate Optimization Algorithm.\n",
    "</div>"
   ]
  },
  {
   "cell_type": "code",
   "execution_count": 26,
   "id": "bf524a37",
   "metadata": {},
   "outputs": [],
   "source": [
    "\n",
    "# Copyright 2024 IQM Quantum Computers (Stefan Seegerer)\n",
    "#\n",
    "# Licensed under the Apache License, Version 2.0 (the \"License\");\n",
    "# you may not use this file except in compliance with the License.\n",
    "# You may obtain a copy of the License at\n",
    "#\n",
    "#     http://www.apache.org/licenses/LICENSE-2.0\n",
    "#\n",
    "# Unless required by applicable law or agreed to in writing, software\n",
    "# distributed under the License is distributed on an \"AS IS\" BASIS,\n",
    "# WITHOUT WARRANTIES OR CONDITIONS OF ANY KIND, either express or implied.\n",
    "# See the License for the specific language governing permissions and\n",
    "# limitations under the License."
   ]
  }
 ],
 "metadata": {
  "kernelspec": {
   "display_name": "cirq",
   "language": "python",
   "name": "python3"
  },
  "language_info": {
   "codemirror_mode": {
    "name": "ipython",
    "version": 3
   },
   "file_extension": ".py",
   "mimetype": "text/x-python",
   "name": "python",
   "nbconvert_exporter": "python",
   "pygments_lexer": "ipython3",
   "version": "3.11.11"
  }
 },
 "nbformat": 4,
 "nbformat_minor": 5
}

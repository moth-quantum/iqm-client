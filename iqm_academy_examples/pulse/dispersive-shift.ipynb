{
 "cells": [
  {
   "cell_type": "markdown",
   "id": "407a3e19",
   "metadata": {},
   "source": [
    "# Dispersive shift\n",
    "\n",
    "The measurement of qubits in a quantum computer is needed to know anything about any experiment.\n",
    "\n",
    "In this notebook, you will ...\n",
    "* ... understand how the measurement signal depends on the state of the qubits.\n",
    "\n",
    "By the end of this notebook, you will not only have a basic understanding of how to execute pulse schedules, but you will also have a feeling for the outcome to expect in your experiments.\n",
    "\n",
    "In order to get started, make sure you have the appropriate packages installed:"
   ]
  },
  {
   "cell_type": "code",
   "execution_count": null,
   "id": "3da6e5f5",
   "metadata": {},
   "outputs": [],
   "source": [
    "%%capture \n",
    "!pip install iqm-client\n",
    "!pip install iqm-pulla \n",
    "!pip install matplotlib\n",
    "!pip install pylatexenc"
   ]
  },
  {
   "cell_type": "markdown",
   "id": "32f22c1b",
   "metadata": {},
   "source": [
    "## 1. Preparation\n",
    "\n",
    "### 1.1 Connecting to the QPU station control\n",
    "In the following, we will use the PulLa (Pulse Level Access) package. You can find the documentation [here](https://docs.meetiqm.com/iqm-pulla/).\n",
    "\n",
    "As a first step, we need to create a **PulLa object linked**. In general, this is a **compiler**, in a particular state, linked to a particular quantum computer. It contains calibration data and the set of available operations. \n",
    "\n",
    "Make sure you have the correct url and token below."
   ]
  },
  {
   "cell_type": "code",
   "execution_count": null,
   "id": "6862c9d7",
   "metadata": {},
   "outputs": [],
   "source": [
    "from iqm.pulla.pulla import Pulla\n",
    "import os\n",
    "from iqm.iqm_client.authentication import TokenManager\n",
    "\n",
    "# On-premise\n",
    "#os.environ[\"IQM_TOKENS_FILE\"]=\"your-token-here\"\n",
    "#p = Pulla(\"your-url-here\", get_token_callback=TokenManager().get_bearer_token) \n",
    "\n",
    "#Resonance \n",
    "api_token = input()\n",
    "p = Pulla(\"https://cocos.resonance.meetiqm.com/sirius\", get_token_callback=lambda: api_token) \n",
    "\n",
    "compiler = p.get_standard_compiler()"
   ]
  },
  {
   "cell_type": "markdown",
   "id": "1f95a2e3",
   "metadata": {},
   "source": [
    "## 2. Measurement operation\n",
    "\n",
    "Qubit readout in superconducting systems is done via **superconducting resonators** (e.g. LC oscillators) that are coupled to the transmon qubits in the QPU. The coupling between the qubit and the resonator can be described with the [Jaynes-Cummings model](https://en.wikipedia.org/wiki/Jaynes%E2%80%93Cummings_model), which allows for two different regimes of the system, the **resonant** and the **dispersive** one. In the latter, looking at the spectrum of the resonator, one can infer the state of the qubit thanks to the **shift** in the resonator's frequency caused by the coupling. This shift is typically a few MHz.\n",
    "\n",
    "The raw measurement signal is typically represented as a **complex number** as function of time. The measurement instrument integrates the signal over time to yield a complex number, one per measurement operation."
   ]
  },
  {
   "cell_type": "markdown",
   "id": "85661dae",
   "metadata": {},
   "source": [
    "Knowing now that the readout signal depends on the state of the qubit, our strategy will be to prepare the qubits in different states and compare observations! \n",
    "1. Prepare a qubit in the $|0\\rangle$ state and measure.\n",
    "2. Prepare a qubit in the $|1\\rangle$ state (applying an X gate) and measure.\n",
    "\n",
    "Below we use the IQM Pulse syntax to define the circuits (you can find the documentation [here](https://docs.meetiqm.com/iqm-pulse/))."
   ]
  },
  {
   "cell_type": "code",
   "execution_count": 2,
   "id": "d9a712bb",
   "metadata": {},
   "outputs": [],
   "source": [
    "from iqm.cpc.interface.compiler import Circuit, CircuitOperation as Op\n",
    "import numpy as np\n",
    "\n",
    "qubit = \"QB1\"\n",
    "c0 = Circuit(\"0\", [\n",
    "    Op(\"measure\", (qubit,), args={\"key\": \"M\"})    \n",
    "])\n",
    "c1 = Circuit(\"1\", [\n",
    "    Op(\"prx\", (qubit,), args={\"angle\": np.pi, \"phase\": 0.0}),\n",
    "    Op(\"measure\", (qubit,), args={\"key\": \"M\"})    \n",
    "])\n",
    "circuits = [c0, c1]"
   ]
  },
  {
   "cell_type": "markdown",
   "id": "00494f73",
   "metadata": {},
   "source": [
    "### 2.1 Modify the calibration settings"
   ]
  },
  {
   "cell_type": "markdown",
   "id": "ea10a931",
   "metadata": {},
   "source": [
    "To see the **dispersive shift effect**, we need to repeat the preparation and measurement protocol for different readout frequencies. This can be done by looking at the calibrated frequency and spanning a range of frequencies around this reference value. "
   ]
  },
  {
   "cell_type": "code",
   "execution_count": null,
   "id": "28ac10e3",
   "metadata": {},
   "outputs": [],
   "source": [
    "f_0 =  compiler.get_calibration()[f\"gates.measure.constant.{qubit}.frequency\"]\n",
    "f_axis = f_0 + np.linspace(-30e6, 30e6, 25) # in Hz"
   ]
  },
  {
   "cell_type": "markdown",
   "id": "0c4ef129",
   "metadata": {},
   "source": [
    "Additionally, we need to change the default calibration settings for the `measure` operation. In particular, we need to change the `acquisition_type` of the `constant` implementation from `threshold` to `complex`. \n",
    "\n",
    "For more details on this topic you can have a look at the Readout tutorial in the Tutorials page on IQM Academy :) "
   ]
  },
  {
   "cell_type": "markdown",
   "id": "afef51f0",
   "metadata": {},
   "source": [
    "Finally, we tweak the settings so that the shots used in the measurement are averaged by the server and we don't need to do it ourselves.\n",
    "We are now ready to compile the circuits and run the experiment!"
   ]
  },
  {
   "cell_type": "code",
   "execution_count": 4,
   "id": "f8c16984",
   "metadata": {
    "scrolled": true
   },
   "outputs": [
    {
     "name": "stdout",
     "output_type": "stream",
     "text": [
      "[03-21 17:19:00;I] Submitted sweep with ID: bc192c2a-a4df-4e79-9a0f-bc7c07a2f509\n",
      "[03-21 17:19:00;I] Created task in queue with ID: a6308bdb-409f-495a-b48b-f2f73a27b4a6\n",
      "[03-21 17:19:00;I] Waiting for the sweep to finish...\n",
      "[03-21 17:19:03;I] Sweep status: SweepStatus.SUCCESS\n",
      "[03-21 17:19:03;I] Submitted sweep with ID: 99bb4539-56b2-48f9-ab99-f197b7285b28\n",
      "[03-21 17:19:03;I] Created task in queue with ID: 8f0a89c3-c8a1-417b-9ea8-6e3d376f8615\n",
      "[03-21 17:19:03;I] Waiting for the sweep to finish...\n",
      "[03-21 17:19:06;I] Sweep status: SweepStatus.SUCCESS\n",
      "[03-21 17:19:07;I] Submitted sweep with ID: f5a1dd7b-2b7c-4d24-9d62-f96db00aba4c\n",
      "[03-21 17:19:07;I] Created task in queue with ID: 3120d376-a94f-48c5-8b1a-6d3667ac8614\n",
      "[03-21 17:19:07;I] Waiting for the sweep to finish...\n",
      "[03-21 17:19:10;I] Sweep status: SweepStatus.SUCCESS\n",
      "[03-21 17:19:10;I] Submitted sweep with ID: 33562d89-4ee8-4695-a60d-6f91f80f5560\n",
      "[03-21 17:19:10;I] Created task in queue with ID: f064691f-0317-4656-ad5b-90ba033893ce\n",
      "[03-21 17:19:10;I] Waiting for the sweep to finish...\n",
      "[03-21 17:19:13;I] Sweep status: SweepStatus.SUCCESS\n",
      "[03-21 17:19:14;I] Submitted sweep with ID: fc9582ee-0712-4907-9430-b483fff6a43f\n",
      "[03-21 17:19:14;I] Created task in queue with ID: 9212baa5-6e9e-4319-bcd5-e7f495a3e228\n",
      "[03-21 17:19:14;I] Waiting for the sweep to finish...\n",
      "[03-21 17:19:17;I] Sweep status: SweepStatus.SUCCESS\n",
      "[03-21 17:19:17;I] Submitted sweep with ID: 69689ae7-d658-4a8d-985b-2d747117275e\n",
      "[03-21 17:19:17;I] Created task in queue with ID: d2789e3c-40a1-4637-a456-eea59bfbf72d\n",
      "[03-21 17:19:17;I] Waiting for the sweep to finish...\n",
      "[03-21 17:19:20;I] Sweep status: SweepStatus.SUCCESS\n",
      "[03-21 17:19:21;I] Submitted sweep with ID: 9361bafc-3671-469c-884f-070987ba773f\n",
      "[03-21 17:19:21;I] Created task in queue with ID: 5a121cc3-4ca2-4d8e-bee2-05329da81d9e\n",
      "[03-21 17:19:21;I] Waiting for the sweep to finish...\n",
      "[03-21 17:19:24;I] Sweep status: SweepStatus.SUCCESS\n",
      "[03-21 17:19:24;I] Submitted sweep with ID: 3477e123-2ff7-4dc6-a099-4883addc0ae6\n",
      "[03-21 17:19:24;I] Created task in queue with ID: a5419528-5ca6-4158-99d9-93f6350fca9d\n",
      "[03-21 17:19:24;I] Waiting for the sweep to finish...\n",
      "[03-21 17:19:27;I] Sweep status: SweepStatus.SUCCESS\n",
      "[03-21 17:19:28;I] Submitted sweep with ID: 0860da52-ff3a-4029-b46a-99dc75a5ac5f\n",
      "[03-21 17:19:28;I] Created task in queue with ID: 9f91eea2-50a7-4219-ab69-c7cd1a1dba21\n",
      "[03-21 17:19:28;I] Waiting for the sweep to finish...\n",
      "[03-21 17:19:31;I] Sweep status: SweepStatus.SUCCESS\n",
      "[03-21 17:19:31;I] Submitted sweep with ID: 900827d4-5f90-42cd-8aba-9301ad9231a6\n",
      "[03-21 17:19:31;I] Created task in queue with ID: 74f2d900-6390-4e9a-a6b5-769fe814c3b7\n",
      "[03-21 17:19:31;I] Waiting for the sweep to finish...\n",
      "[03-21 17:19:34;I] Sweep status: SweepStatus.SUCCESS\n",
      "[03-21 17:19:35;I] Submitted sweep with ID: de635c60-ebc7-476f-89ef-4a6ce5feceb0\n",
      "[03-21 17:19:35;I] Created task in queue with ID: 54deb6b6-d078-431d-ba98-db506e1d3acd\n",
      "[03-21 17:19:35;I] Waiting for the sweep to finish...\n",
      "[03-21 17:19:38;I] Sweep status: SweepStatus.SUCCESS\n",
      "[03-21 17:19:38;I] Submitted sweep with ID: 07a2666c-732e-4e94-bc69-d969f69755c4\n",
      "[03-21 17:19:38;I] Created task in queue with ID: d3d2a581-7e53-429d-b15d-6222c1677225\n",
      "[03-21 17:19:38;I] Waiting for the sweep to finish...\n",
      "[03-21 17:19:41;I] Sweep status: SweepStatus.SUCCESS\n",
      "[03-21 17:19:42;I] Submitted sweep with ID: d1c7fd03-28ae-49ce-8256-7153b00dc5ca\n",
      "[03-21 17:19:42;I] Created task in queue with ID: 051ab4fd-24c1-43d8-862a-3b9bc9dac89f\n",
      "[03-21 17:19:42;I] Waiting for the sweep to finish...\n",
      "[03-21 17:19:45;I] Sweep status: SweepStatus.SUCCESS\n",
      "[03-21 17:19:45;I] Submitted sweep with ID: 0ba51e9f-7862-4aed-a0e0-74c9f9e3c764\n",
      "[03-21 17:19:45;I] Created task in queue with ID: 9ec715d3-05bc-4318-be39-f1118a4ddf2c\n",
      "[03-21 17:19:45;I] Waiting for the sweep to finish...\n",
      "[03-21 17:19:48;I] Sweep status: SweepStatus.SUCCESS\n",
      "[03-21 17:19:49;I] Submitted sweep with ID: a1d03eda-a22c-4b01-a1a8-952f2a8b08b9\n",
      "[03-21 17:19:49;I] Created task in queue with ID: 0ce7fd93-13d8-4665-a6c8-27cf13b09096\n",
      "[03-21 17:19:49;I] Waiting for the sweep to finish...\n",
      "[03-21 17:19:49;I] Celery task ID: 0ce7fd93-13d8-4665-a6c8-27cf13b09096\n",
      "[03-21 17:19:52;I] Sweep status: SweepStatus.SUCCESS\n",
      "[03-21 17:19:52;I] Submitted sweep with ID: ed572776-5388-4371-92fd-9f72b97e5ed5\n",
      "[03-21 17:19:52;I] Created task in queue with ID: 496a964f-3bc3-4945-8fd4-3f5999b787ec\n",
      "[03-21 17:19:52;I] Waiting for the sweep to finish...\n",
      "[03-21 17:19:55;I] Sweep status: SweepStatus.SUCCESS\n",
      "[03-21 17:19:56;I] Submitted sweep with ID: 2a3f99f0-1eae-4faa-99c7-9f5957e42ba7\n",
      "[03-21 17:19:56;I] Created task in queue with ID: 05320ba6-844c-4dfd-93c9-861e0416623d\n",
      "[03-21 17:19:56;I] Waiting for the sweep to finish...\n",
      "[03-21 17:19:56;I] Celery task ID: 05320ba6-844c-4dfd-93c9-861e0416623d\n",
      "[03-21 17:19:59;I] Sweep status: SweepStatus.SUCCESS\n",
      "[03-21 17:20:00;I] Submitted sweep with ID: c9f0365f-f5cc-4191-a1eb-b64807a8da4f\n",
      "[03-21 17:20:00;I] Created task in queue with ID: cfc23d26-5b75-4c1f-ac4e-593995e2d912\n",
      "[03-21 17:20:00;I] Waiting for the sweep to finish...\n",
      "[03-21 17:20:00;I] Celery task ID: cfc23d26-5b75-4c1f-ac4e-593995e2d912\n",
      "[03-21 17:20:03;I] Sweep status: SweepStatus.SUCCESS\n",
      "[03-21 17:20:04;I] Submitted sweep with ID: 2f51ccbd-1f47-4ebe-aab8-72e6fe7461b9\n",
      "[03-21 17:20:04;I] Created task in queue with ID: 6fa9541c-0977-48e8-94cb-a6841320b803\n",
      "[03-21 17:20:04;I] Waiting for the sweep to finish...\n",
      "[03-21 17:20:04;I] Celery task ID: 6fa9541c-0977-48e8-94cb-a6841320b803\n",
      "[03-21 17:20:07;I] Sweep status: SweepStatus.SUCCESS\n",
      "[03-21 17:20:07;I] Submitted sweep with ID: cc1b35c1-5081-42fa-92e9-03e9b6d9c5e0\n",
      "[03-21 17:20:07;I] Created task in queue with ID: c00e3e5a-c98c-4e25-8182-b9e6864f6b7c\n",
      "[03-21 17:20:07;I] Waiting for the sweep to finish...\n",
      "[03-21 17:20:07;I] Celery task ID: c00e3e5a-c98c-4e25-8182-b9e6864f6b7c\n",
      "[03-21 17:20:10;I] Sweep status: SweepStatus.SUCCESS\n",
      "[03-21 17:20:11;I] Submitted sweep with ID: dc90a15c-c53e-450b-b275-0ffbf2ca42ca\n",
      "[03-21 17:20:11;I] Created task in queue with ID: 1beead11-1e25-49b2-8f26-364633bb9e4b\n",
      "[03-21 17:20:11;I] Waiting for the sweep to finish...\n",
      "[03-21 17:20:11;I] Celery task ID: 1beead11-1e25-49b2-8f26-364633bb9e4b\n",
      "[03-21 17:20:14;I] Sweep status: SweepStatus.SUCCESS\n",
      "[03-21 17:20:14;I] Submitted sweep with ID: 4462e6d3-c895-4a13-a437-e10495a79beb\n",
      "[03-21 17:20:14;I] Created task in queue with ID: 30097060-2d9f-4243-93ad-c19b70f8df5d\n",
      "[03-21 17:20:14;I] Waiting for the sweep to finish...\n",
      "[03-21 17:20:15;I] Celery task ID: 30097060-2d9f-4243-93ad-c19b70f8df5d\n",
      "[03-21 17:20:17;I] Sweep status: SweepStatus.SUCCESS\n",
      "[03-21 17:20:18;I] Submitted sweep with ID: 223cc9ef-f7b8-4f22-9d58-5458598ddd88\n",
      "[03-21 17:20:18;I] Created task in queue with ID: 4c47ca34-5733-41d5-a984-dc66f07a884a\n",
      "[03-21 17:20:18;I] Waiting for the sweep to finish...\n",
      "[03-21 17:20:21;I] Sweep status: SweepStatus.SUCCESS\n",
      "[03-21 17:20:21;I] Submitted sweep with ID: d04235ae-72a9-411e-a6d9-6c6ac8821350\n",
      "[03-21 17:20:21;I] Created task in queue with ID: a7727a8b-3d5b-4c7e-8675-867b3cbd495c\n",
      "[03-21 17:20:21;I] Waiting for the sweep to finish...\n",
      "[03-21 17:20:24;I] Sweep status: SweepStatus.SUCCESS\n",
      "[03-21 17:20:25;I] Submitted sweep with ID: 97c3af15-54df-4047-8e29-d7bffdb6f871\n",
      "[03-21 17:20:25;I] Created task in queue with ID: 3a1540e0-e2cd-45fa-a4a1-dd21334fc3c4\n",
      "[03-21 17:20:25;I] Waiting for the sweep to finish...\n",
      "[03-21 17:20:28;I] Sweep status: SweepStatus.SUCCESS\n"
     ]
    }
   ],
   "source": [
    "jobs = []\n",
    "for f in f_axis:\n",
    "    compiler.amend_calibration_for_gate_implementation(\n",
    "        \"measure\", \"constant\", (qubit, ),\n",
    "        {\"acquisition_type\": \"complex\", \"frequency\": f}\n",
    "    )\n",
    "    playlist, context = compiler.compile(circuits)\n",
    "    settings, context = compiler.build_settings(context, shots=1000)\n",
    "    settings.options.averaging_bins = 1  \n",
    "    job = p.execute(playlist, context, settings, verbose=False)\n",
    "    jobs.append(job)"
   ]
  },
  {
   "cell_type": "markdown",
   "id": "ccea68e6",
   "metadata": {},
   "source": [
    "## 3. Analyze the results\n",
    "\n",
    "Now that the 'playlist' of instructions above has successfully run, we can extract the results and look at the readout signal as a function of frequency for the two different states. "
   ]
  },
  {
   "cell_type": "code",
   "execution_count": 5,
   "id": "2d65f18b",
   "metadata": {},
   "outputs": [
    {
     "data": {
      "image/png": "[encoded data removed]",
      "text/plain": [
       "<Figure size 640x480 with 1 Axes>"
      ]
     },
     "metadata": {},
     "output_type": "display_data"
    }
   ],
   "source": [
    "import matplotlib.pyplot as plt\n",
    "\n",
    "state_0_results = np.array([job.result[0][\"M\"] for job in jobs]).squeeze()\n",
    "state_1_results = np.array([job.result[1][\"M\"] for job in jobs]).squeeze()\n",
    "\n",
    "plt.figure()\n",
    "plt.plot(f_axis/1e9, np.abs(state_0_results), label=\"Prepare 0\")\n",
    "plt.plot(f_axis/1e9, np.abs(state_1_results), label=\"Prepare 1\")\n",
    "plt.xlabel(\"Readout frequency (GHz)\")\n",
    "plt.ylabel(\"Signal magnitude (a.u.)\")\n",
    "plt.legend();"
   ]
  },
  {
   "cell_type": "markdown",
   "id": "adf4b03e",
   "metadata": {},
   "source": [
    "We observe the dispersive shift effect: the qubit state shifts the spectrum of the resonator!\n",
    "\n",
    "Now you know what happens behind the scenes everytime you append a measurement opeation to your circuit! We usually only monitor a fixed frequency and observe the change in magnitude and phase of the signal to return the result of a measurement. "
   ]
  },
  {
   "cell_type": "code",
   "execution_count": null,
   "id": "e505bf35",
   "metadata": {},
   "outputs": [],
   "source": [
    "# Copyright 2025 IQM Quantum Computers (Joni Ikonen, Nadia Milazzo)\n",
    "#\n",
    "# Licensed under the Apache License, Version 2.0 (the \"License\");\n",
    "# you may not use this file except in compliance with the License.\n",
    "# You may obtain a copy of the License at\n",
    "#\n",
    "#     http://www.apache.org/licenses/LICENSE-2.0\n",
    "#\n",
    "# Unless required by applicable law or agreed to in writing, software\n",
    "# distributed under the License is distributed on an \"AS IS\" BASIS,\n",
    "# WITHOUT WARRANTIES OR CONDITIONS OF ANY KIND, either express or implied.\n",
    "# See the License for the specific language governing permissions and\n",
    "# limitations under the License."
   ]
  }
 ],
 "metadata": {
  "kernelspec": {
   "display_name": "pulla",
   "language": "python",
   "name": "python3"
  },
  "language_info": {
   "codemirror_mode": {
    "name": "ipython",
    "version": 3
   },
   "file_extension": ".py",
   "mimetype": "text/x-python",
   "name": "python",
   "nbconvert_exporter": "python",
   "pygments_lexer": "ipython3",
   "version": "3.11.11"
  }
 },
 "nbformat": 4,
 "nbformat_minor": 5
}

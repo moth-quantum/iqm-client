{
 "cells": [
  {
   "cell_type": "markdown",
   "id": "de216ef7",
   "metadata": {},
   "source": [
    "# Rabi oscillations\n",
    "\n",
    "Imagine that you have a two-level system in your lab that you want to use as your qubit. To verify that you prepared it well, you can perform a Rabi experiment! \n",
    "\n",
    "In this notebook, you will ...\n",
    "* ... understand how the populations of the two states of a qubit behave when the qubit is driven by a resonant pulse.\n",
    "\n",
    "By the end of this notebook, you will not only have a basic understanding of how to execute pulse schedules, but you will also have a feeling for the outcome to expect in your experiments.\n",
    "\n",
    "In order to get started, make sure you have the appropriate packages installed:"
   ]
  },
  {
   "cell_type": "code",
   "execution_count": null,
   "id": "83f78f40",
   "metadata": {},
   "outputs": [],
   "source": [
    "%%capture \n",
    "!pip install iqm-client\n",
    "!pip install iqm-pulla \n",
    "!pip install matplotlib\n",
    "!pip install pylatexenc"
   ]
  },
  {
   "cell_type": "markdown",
   "id": "971edc78",
   "metadata": {},
   "source": [
    "## 1. Preparation\n",
    "\n",
    "### 1.1 Connecting to the QPU station control\n",
    "In the following, we will use the PulLa (Pulse Level Access) package. You can find the documentation [here](https://docs.meetiqm.com/iqm-pulla/).\n",
    "\n",
    "As a first step, we need to create a **PulLa object**. In general, this is a **compiler**, in a particular state, linked to a particular quantum computer. It contains calibration data and the set of available operations. \n",
    "\n",
    "Make sure you have the correct url and token below."
   ]
  },
  {
   "cell_type": "code",
   "execution_count": 1,
   "id": "0b350e76",
   "metadata": {},
   "outputs": [
    {
     "name": "stderr",
     "output_type": "stream",
     "text": [
      "/Users/see/miniforge3/envs/pulla/lib/python3.11/site-packages/tqdm/auto.py:21: TqdmWarning: IProgress not found. Please update jupyter and ipywidgets. See https://ipywidgets.readthedocs.io/en/stable/user_install.html\n",
      "  from .autonotebook import tqdm as notebook_tqdm\n"
     ]
    }
   ],
   "source": [
    "from iqm.pulla.pulla import Pulla\n",
    "import os\n",
    "from iqm.iqm_client.authentication import TokenManager\n",
    "\n",
    "# On-premise\n",
    "#os.environ[\"IQM_TOKENS_FILE\"]=\"your-token-here\"\n",
    "#p = Pulla(\"your-url-here\", get_token_callback=TokenManager().get_bearer_token) \n",
    "\n",
    "#Resonance \n",
    "api_token = input()\n",
    "p = Pulla(\"https://cocos.resonance.meetiqm.com/sirius\", get_token_callback=lambda: api_token) \n",
    "\n",
    "compiler = p.get_standard_compiler()"
   ]
  },
  {
   "cell_type": "markdown",
   "id": "b6295232",
   "metadata": {},
   "source": [
    "## 2. Driving qubits\n",
    "In a superconducting QPU, we control qubits via microwave pulses sent via the **qubit drive lines**. If we apply the driving pulse for a time *t*, the qubit oscillates between the two states $|0\\rangle$ and $|1\\rangle$. This behaviour is known as the **Rabi cycle** of the qubit. The unitary operator that leads to this result is called **Rabi driving** and can be written as:\n",
    "$$U(t)= e^{-\\frac{i}{2} \\Theta(t) \\sigma_x}$$\n",
    "where $\\sigma_x$ is the $x$-Pauli matrix and $\\Theta(t)\\propto\\int_0^t{s(t')dt'}$, with $s(t)$ the waveform envelope. This gives that the angle by which a state is rotated is proportional to the time integral of the pulse."
   ]
  },
  {
   "cell_type": "markdown",
   "id": "719c2659",
   "metadata": {},
   "source": [
    "### 2.1 Implementation\n",
    "In our QPU, we can perform the operation above with a PRX gate (definition [here](https://docs.meetiqm.com/iqm-pulse/api/iqm.pulse.gates.prx.html#module-iqm.pulse.gates.prx)).\n",
    "\n",
    "While the exact **shape** of the drive pulse can vary, all pulses are parametrized to have an `amplitude_i` and a `full_width`.\n",
    "Increasing either of these will rotate the state of the qubit by a larger amount. The parameter `amplitude_i` is restricted to values in the interval $[-1,1]$, whereas `full_width` can be anything.\n",
    "\n",
    "In addition, all gates have a `duration` parameter, which determines the time window in which the pulse waveform must fit.\n",
    "`duration` can only take values that the hardware supports and can be retrieved from the calibration data:"
   ]
  },
  {
   "cell_type": "markdown",
   "id": "2e32ba17",
   "metadata": {},
   "source": [
    "You can check the different calibrated implementations of the PRX gate using the code below. If needed, you can change the `default_impl` parameter in the following."
   ]
  },
  {
   "cell_type": "code",
   "execution_count": null,
   "id": "875a0ead",
   "metadata": {},
   "outputs": [],
   "source": [
    "print(compiler.gates[\"prx\"].implementations.keys())"
   ]
  },
  {
   "cell_type": "code",
   "execution_count": 2,
   "id": "d6f1f04d",
   "metadata": {},
   "outputs": [
    {
     "name": "stdout",
     "output_type": "stream",
     "text": [
      "duration (s) =  4e-08\n"
     ]
    }
   ],
   "source": [
    "calibration = compiler.get_calibration()\n",
    "default_impl = 'drag_crf'\n",
    "print(\"duration (s) = \", calibration[f\"gates.prx.{default_impl}.{'QB1'}.duration\"])"
   ]
  },
  {
   "cell_type": "markdown",
   "id": "98ba171a",
   "metadata": {},
   "source": [
    "### 2.2 Preparing the circuits"
   ]
  },
  {
   "cell_type": "markdown",
   "id": "b270e4e8",
   "metadata": {},
   "source": [
    "We select a physical qubit on the QPU and we make multiple variations of the same base circuit: **Play a pulse and measure**. \n",
    "\n",
    "First, let's check the calibrated values of the amplitude and width for the PRX gate:"
   ]
  },
  {
   "cell_type": "code",
   "execution_count": 3,
   "id": "319024ec",
   "metadata": {},
   "outputs": [
    {
     "name": "stdout",
     "output_type": "stream",
     "text": [
      "amplitude =  0.4445816793018683\n",
      "full width =  4e-08\n"
     ]
    }
   ],
   "source": [
    "qubit = \"QB1\"\n",
    "print(\"amplitude = \", calibration[f\"gates.prx.{default_impl}.{qubit}.amplitude_i\"])\n",
    "print(\"full width = \", calibration[f\"gates.prx.{default_impl}.{qubit}.full_width\"])"
   ]
  },
  {
   "cell_type": "markdown",
   "id": "3bd795eb",
   "metadata": {},
   "source": [
    "We now define the two intervals for the amplitude and width of the pulse and the number of steps, keeping in mind the allowed values mentioned above."
   ]
  },
  {
   "cell_type": "code",
   "execution_count": 4,
   "id": "bfd95f59",
   "metadata": {},
   "outputs": [],
   "source": [
    "import numpy as np\n",
    "\n",
    "width_axis = np.linspace(1e-9, 80e-9, 20)\n",
    "amplitude_axis = np.linspace(0, 0.5, 25)"
   ]
  },
  {
   "cell_type": "markdown",
   "id": "a680dc18",
   "metadata": {},
   "source": [
    "We use the IQM Pulse syntax to define the circuits (see documentation [here](https://docs.meetiqm.com/iqm-pulse/)). \n",
    "\n",
    "First, we need to define our custom `drive_pulse` operation and register it such that the compiler is able to recognize it when running the circuits. To do that, we use the `CompositeGate` class:\n"
   ]
  },
  {
   "cell_type": "code",
   "execution_count": 5,
   "id": "73e7796b",
   "metadata": {},
   "outputs": [],
   "source": [
    "from iqm.pulse.gate_implementation import CompositeGate\n",
    "\n",
    "class CustomPulse(CompositeGate):\n",
    "    # GateImplementation for our custom gate.\n",
    "    # It uses the calibration for the regular \"measure\", but replaces the calibrated frequency.\n",
    "\n",
    "    def _call(self, amplitude: float, width: float):\n",
    "        # This will be called when \"custom_measure\" is encountered during circuit compilation.\n",
    "        priority_calibration = {\n",
    "            \"amplitude_i\": amplitude,\n",
    "            \"full_width\": width,\n",
    "            \"duration\": width_axis[-1],\n",
    "        }\n",
    "        modded_prx = self.builder.prx(self.locus, priority_calibration=priority_calibration, impl_name=\"drag_crf\")\n",
    "        return modded_prx(np.pi, 0)\n",
    "    \n",
    "compiler.add_implementation(\n",
    "    op_name=\"drive_pulse\",\n",
    "    implementation=CustomPulse,\n",
    "    impl_name=\"custom_pulse\",\n",
    "    quantum_op_specs={\"params\": (\"amplitude\", \"width\")},\n",
    "    overwrite=True\n",
    ")"
   ]
  },
  {
   "cell_type": "markdown",
   "id": "9031f93e",
   "metadata": {},
   "source": [
    "Above, we set the `duration` of the gate equal to the biggest width in your interval."
   ]
  },
  {
   "cell_type": "markdown",
   "id": "771475c7",
   "metadata": {},
   "source": [
    "We can now create a *batch* of circuits containing a drive pulse with different parameters and a measurement. We can then submit it as a single job."
   ]
  },
  {
   "cell_type": "code",
   "execution_count": 6,
   "id": "c2a23768",
   "metadata": {},
   "outputs": [],
   "source": [
    "from iqm.cpc.interface.compiler import Circuit, CircuitOperation as Op\n",
    "\n",
    "circuits = []\n",
    "for width in width_axis:\n",
    "    for amplitude in amplitude_axis:\n",
    "        circuit = Circuit(\"Rabi test\", [\n",
    "            Op(\"drive_pulse\", (qubit,), args={\"amplitude\": amplitude, \"width\": width}),  \n",
    "            Op(\"measure\", (qubit,), args={\"key\": \"M\"})    \n",
    "        ])\n",
    "        circuits.append(circuit)"
   ]
  },
  {
   "cell_type": "markdown",
   "id": "150b2687",
   "metadata": {},
   "source": [
    "Let's run the *playlist* created above! You can change the number of shots for the measurement, taking into account that the run time of the execute below might vary."
   ]
  },
  {
   "cell_type": "code",
   "execution_count": 7,
   "id": "c49134e1",
   "metadata": {},
   "outputs": [],
   "source": [
    "playlist, context = compiler.compile(circuits)\n",
    "settings, context = compiler.build_settings(context, shots=500)\n",
    "settings.options.averaging_bins = 1  "
   ]
  },
  {
   "cell_type": "code",
   "execution_count": 10,
   "id": "a3f43898",
   "metadata": {},
   "outputs": [
    {
     "name": "stdout",
     "output_type": "stream",
     "text": [
      "[04-24 09:33:58;I] Submitted sweep with ID: 019666b7-b805-7c43-947f-86346257fa5d\n",
      "[04-24 09:33:58;I] Created task in queue with ID: 019666b7-b805-7c43-947f-86346257fa5d\n",
      "[04-24 09:33:58;I] Waiting for the sweep to finish...\n"
     ]
    },
    {
     "name": "stderr",
     "output_type": "stream",
     "text": [
      "Progress in queue: 100%|██████████| 1/1 [01:40<00:00, 100.12s/it]\n"
     ]
    },
    {
     "name": "stdout",
     "output_type": "stream",
     "text": [
      "[04-24 09:35:39;I] Sweep status: SweepStatus.SUCCESS\n"
     ]
    }
   ],
   "source": [
    "# Warning: this could take ~2 minutes to run \n",
    "job = p.execute(playlist, context, settings, verbose=False)"
   ]
  },
  {
   "cell_type": "markdown",
   "id": "14056d4b",
   "metadata": {},
   "source": [
    "## 3. Analyze the results"
   ]
  },
  {
   "cell_type": "markdown",
   "id": "2e180afb",
   "metadata": {},
   "source": [
    "Now that the job is complete, we can retrieve the results.\n",
    "\n",
    "As explained above, in a Rabi experiment, we expect to see oscillations between the two states of the qubit. To see this, we need to plot the transition probability as a function of time (width) and amplitude of the drive pulse:"
   ]
  },
  {
   "cell_type": "code",
   "execution_count": 11,
   "id": "6ec532f1",
   "metadata": {},
   "outputs": [
    {
     "data": {
      "image/png": "[encoded data removed]",
      "text/plain": [
       "<Figure size 640x480 with 2 Axes>"
      ]
     },
     "metadata": {},
     "output_type": "display_data"
    }
   ],
   "source": [
    "import matplotlib.pyplot as plt\n",
    "\n",
    "probability = np.array([data[\"M\"] for data in job.result])\n",
    "probability = probability.reshape((len(width_axis), len(amplitude_axis)))\n",
    "\n",
    "plt.figure()\n",
    "ax = plt.contourf(amplitude_axis, width_axis / 1e-9, probability)\n",
    "plt.gcf().colorbar(ax)\n",
    "plt.xlabel(\"Pulse amplitude (a.u.)\")\n",
    "plt.ylabel(\"Pulse full width (ns)\");"
   ]
  },
  {
   "cell_type": "markdown",
   "id": "acc9606c",
   "metadata": {},
   "source": [
    "Congratulations, you have a qubit! 🎉 We can see the oscillations of the states' populations.\n",
    "\n",
    "More precisely, the transition probability from the $|0\\rangle$ state to the $|1\\rangle$ state is given by:\n",
    "$$P_{0\\rightarrow 1}(t) = \\sin^2{\\frac{\\omega t}{2}}$$\n",
    "\n",
    "where $\\omega$ is called the *Rabi frequency*."
   ]
  },
  {
   "cell_type": "code",
   "execution_count": null,
   "id": "b5c37fbc",
   "metadata": {},
   "outputs": [],
   "source": [
    "# Copyright 2025 IQM Quantum Computers (Joni Ikonen, Nadia Milazzo)\n",
    "#\n",
    "# Licensed under the Apache License, Version 2.0 (the \"License\");\n",
    "# you may not use this file except in compliance with the License.\n",
    "# You may obtain a copy of the License at\n",
    "#\n",
    "#     http://www.apache.org/licenses/LICENSE-2.0\n",
    "#\n",
    "# Unless required by applicable law or agreed to in writing, software\n",
    "# distributed under the License is distributed on an \"AS IS\" BASIS,\n",
    "# WITHOUT WARRANTIES OR CONDITIONS OF ANY KIND, either express or implied.\n",
    "# See the License for the specific language governing permissions and\n",
    "# limitations under the License."
   ]
  }
 ],
 "metadata": {
  "kernelspec": {
   "display_name": "pulla",
   "language": "python",
   "name": "python3"
  },
  "language_info": {
   "codemirror_mode": {
    "name": "ipython",
    "version": 3
   },
   "file_extension": ".py",
   "mimetype": "text/x-python",
   "name": "python",
   "nbconvert_exporter": "python",
   "pygments_lexer": "ipython3",
   "version": "3.11.11"
  }
 },
 "nbformat": 4,
 "nbformat_minor": 5
}
